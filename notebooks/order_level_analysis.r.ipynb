{
 "cells": [
  {
   "cell_type": "code",
   "execution_count": null,
   "id": "525225db",
   "metadata": {
    "tags": [
     "snakemake-job-properties"
    ]
   },
   "outputs": [],
   "source": [
    "\n",
    "######## snakemake preamble start (automatically inserted, do not edit) ########\n",
    "library(methods)\n",
    "Snakemake <- setClass(\n",
    "    \"Snakemake\",\n",
    "    slots = c(\n",
    "        input = \"list\",\n",
    "        output = \"list\",\n",
    "        params = \"list\",\n",
    "        wildcards = \"list\",\n",
    "        threads = \"numeric\",\n",
    "        log = \"list\",\n",
    "        resources = \"list\",\n",
    "        config = \"list\",\n",
    "        rule = \"character\",\n",
    "        bench_iteration = \"numeric\",\n",
    "        scriptdir = \"character\",\n",
    "        source = \"function\"\n",
    "    )\n",
    ")\n",
    "snakemake <- Snakemake(\n",
    "    input = list('wd_0412/analyses/nod_bin.6_matches_to_community.tsv', 'wd_0412/analyses/nod_bin.17_matches_to_community.tsv', 'wd_0412/analyses/nod_bin.12_matches_to_community.tsv', 'wd_0412/analyses/nod_bin.4_matches_to_community.tsv', 'wd_0412/analyses/nod_bin.13_matches_to_community.tsv', 'wd_0412/analyses/nod_bin.3_matches_to_community.tsv', 'wd_0412/analyses/nod_bin.11_matches_to_community.tsv', 'wd_0412/analyses/nod_bin.1_matches_to_community.tsv', 'wd_0412/analyses/nod_bin.5_matches_to_community.tsv', 'wd_0412/analyses/nod_bin.10_matches_to_community.tsv', 'wd_0412/analyses/nod_bin.8_matches_to_community.tsv', 'wd_0412/analyses/nod_bin.14_matches_to_community.tsv', 'wd_0412/analyses/nod_bin.16_matches_to_community.tsv', 'wd_0412/analyses/nod_bin.2_matches_to_community.tsv', 'wd_0412/analyses/nod_bin.9_matches_to_community.tsv', 'wd_0412/analyses/nod_bin.18_matches_to_community.tsv', 'wd_0412/analyses/nod_bin.7_matches_to_community.tsv', 'wd_0412/analyses/nod_bin.15_matches_to_community.tsv', \"info\" = c('wd_0412/analyses/nod_bin.6_matches_to_community.tsv', 'wd_0412/analyses/nod_bin.17_matches_to_community.tsv', 'wd_0412/analyses/nod_bin.12_matches_to_community.tsv', 'wd_0412/analyses/nod_bin.4_matches_to_community.tsv', 'wd_0412/analyses/nod_bin.13_matches_to_community.tsv', 'wd_0412/analyses/nod_bin.3_matches_to_community.tsv', 'wd_0412/analyses/nod_bin.11_matches_to_community.tsv', 'wd_0412/analyses/nod_bin.1_matches_to_community.tsv', 'wd_0412/analyses/nod_bin.5_matches_to_community.tsv', 'wd_0412/analyses/nod_bin.10_matches_to_community.tsv', 'wd_0412/analyses/nod_bin.8_matches_to_community.tsv', 'wd_0412/analyses/nod_bin.14_matches_to_community.tsv', 'wd_0412/analyses/nod_bin.16_matches_to_community.tsv', 'wd_0412/analyses/nod_bin.2_matches_to_community.tsv', 'wd_0412/analyses/nod_bin.9_matches_to_community.tsv', 'wd_0412/analyses/nod_bin.18_matches_to_community.tsv', 'wd_0412/analyses/nod_bin.7_matches_to_community.tsv', 'wd_0412/analyses/nod_bin.15_matches_to_community.tsv')),\n",
    "    output = list('wd_0412/analyses/order_level_transfers.svg', 'wd_0412/analyses/order_level_transfers.csv', \"plot\" = 'wd_0412/analyses/order_level_transfers.svg', \"csv\" = 'wd_0412/analyses/order_level_transfers.csv'),\n",
    "    params = list(),\n",
    "    wildcards = list(),\n",
    "    threads = 1,\n",
    "    log = list(),\n",
    "    resources = list('tmpdir', \"tmpdir\" = '/tmp'),\n",
    "    config = list(\"bins\" = '/mnt/workspace/analyses/omics/hgtector/protein_bins', \"work_directory\" = 'wd_0412', \"hgdb\" = '/mnt/workspace/analyses/omics/hgtector/hgtdb_20230102'),\n",
    "    rule = 'analyse_donnors',\n",
    "    bench_iteration = as.numeric(NA),\n",
    "    scriptdir = '/mnt/workspace/analyses/omics/hgtector/analysis/notebooks',\n",
    "    source = function(...){\n",
    "        wd <- getwd()\n",
    "        setwd(snakemake@scriptdir)\n",
    "        source(...)\n",
    "        setwd(wd)\n",
    "    }\n",
    ")\n",
    "setwd('/mnt/workspace/analyses/omics/hgtector/analysis');\n",
    "\n",
    "######## snakemake preamble end #########\n"
   ]
  },
  {
   "cell_type": "code",
   "execution_count": null,
   "id": "eb90ff5a",
   "metadata": {},
   "outputs": [],
   "source": [
    "# start coding here"
   ]
  }
 ],
 "metadata": {
  "language_info": {
   "name": "r"
  }
 },
 "nbformat": 4,
 "nbformat_minor": 5
}