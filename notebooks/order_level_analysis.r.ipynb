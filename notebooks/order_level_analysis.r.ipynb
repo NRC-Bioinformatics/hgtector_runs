{
 "cells": [
  {
   "cell_type": "code",
   "execution_count": null,
   "id": "eb90ff5a",
   "metadata": {},
   "outputs": [],
   "source": [
    "library(dplyr)\n",
    "library(tidyr)\n",
    "library(ggplot2)\n",
    "library(data.table)\n",
    "library(ggraph)\n",
    "library(igraph)"
   ]
  },
  {
   "cell_type": "code",
   "execution_count": null,
   "id": "ae7fb1cb-e925-4fb3-9049-3ec39d3741ef",
   "metadata": {},
   "outputs": [],
   "source": [
    "df <- lapply(snakemake@input$info, function(x){\n",
    "    return(fread(x))\n",
    "})\n",
    "zos <- unlist(lapply(df,nrow))\n",
    "df2 <- bind_rows(df[zos!=0]) %>%\n",
    "    group_by(donor, reciever, bin) %>%\n",
    "    summarise(N=n()) %>%\n",
    "    ungroup() %>%\n",
    "    group_by(donor, reciever) %>%\n",
    "    summarise(N=max(N), bins=paste(unlist(unique(bin)),collapse=\",\")) %>%\n",
    "    ungroup() %>%\n",
    "    filter(N > 2, donor != reciever)\n",
    "df2"
   ]
  },
  {
   "cell_type": "code",
   "execution_count": null,
   "id": "a5aae00a-d5e1-4b56-9d7f-54f604259494",
   "metadata": {},
   "outputs": [],
   "source": [
    "# Convert your data frame to an igraph object\n",
    "graph_data <- df2 %>%\n",
    "  dplyr::select(donor, reciever, N) %>%  # Ensure you're only taking necessary columns\n",
    "  graph_from_data_frame(directed = TRUE) # Create a directed graph\n"
   ]
  },
  {
   "cell_type": "code",
   "execution_count": null,
   "id": "0ea2e795-43da-4aa6-a991-455a8105df12",
   "metadata": {},
   "outputs": [],
   "source": [
    "options(repr.plot.width = 10, repr.plot.height = 6, jupyter.plot_mimetypes = \"image/svg+xml\")\n",
    "ggraph(graph_data, layout = 'kk') +  # 'kk' is the Kamada-Kawai layout\n",
    "  geom_edge_link(aes(width = N), \n",
    "                 edge_colour = \"gray\", \n",
    "                 alpha = 0.8, \n",
    "                 arrow = arrow(length = unit(4, 'mm'), type = 'closed', ends = 'last')) +\n",
    "  geom_node_point(color = \"darkblue\", size = 5) +\n",
    "  geom_node_text(aes(label = name), vjust = 1.8, hjust=-0.1, color = \"black\", check_overlap = T) +\n",
    "  ggtitle(\"Directed Graph of Donor to Receiver with Arrows\") +\n",
    "  theme(legend.position = \"bottom\") #+\n",
    "#theme(plot.margin = margin(1, 5, 1, 1, \"cm\")) +\n",
    "#coord_cartesian(xlim=c(-2.2,2.2), ylim=c(-2,3))\n",
    "\n",
    "\n"
   ]
  },
  {
   "cell_type": "code",
   "execution_count": null,
   "id": "8ff2880f-7268-45fe-afa7-e27217b6fced",
   "metadata": {},
   "outputs": [],
   "source": [
    "options(repr.plot.width = 8, repr.plot.height = 7, jupyter.plot_mimetypes = \"image/svg+xml\")\n",
    "ggraph(graph_data, layout = 'kk') +\n",
    "  geom_edge_link(aes(width = N), \n",
    "                 edge_colour = \"gray\", \n",
    "                 alpha = 0.8, \n",
    "                 arrow = arrow(length = unit(4, 'mm'), type = 'closed', ends = 'last')) +\n",
    "  geom_node_point(color = \"darkblue\", size = 5) +\n",
    "  geom_node_text(aes(label = name), vjust = 1.8, hjust=0.5, color = \"black\", check_overlap = TRUE) +\n",
    "  theme_graph() +\n",
    "  ggtitle(\"Directed Graph of Donor to Receiver with Arrows\") +\n",
    "  theme(legend.position = \"top\", plot.margin = margin(1, 1, 1, 1, \"cm\"))\n"
   ]
  },
  {
   "cell_type": "code",
   "execution_count": null,
   "id": "e7fd2fae-e51a-4e15-853e-44e6e95c3cf1",
   "metadata": {},
   "outputs": [],
   "source": [
    "library(ggraph)\n",
    "library(igraph)\n",
    "\n",
    "# Adjusting the options to better suit the SVG output in Jupyter\n",
    "options(repr.plot.width = 10, repr.plot.height = 6, jupyter.plot_mimetypes = \"image/svg+xml\")\n",
    "\n",
    "# Assuming graph_data is already prepared as an igraph object\n",
    "ggraph(graph_data, layout = 'linear', circular = T) +  # Using Fruchterman-Reingold layout\n",
    "  # First layer: edges with less prominent color\n",
    "\n",
    "  # Second layer: arrows in a different, more prominent color\n",
    "  geom_edge_arc(aes(width = N),\n",
    "                colour=\"dark green\",\n",
    "                alpha = 0.5, \n",
    "                arrow = arrow(length = unit(2, 'mm'), type = 'closed', ends = 'last'),\n",
    "                curvature = 1.2, ) +\n",
    "  # geom_edge_arc(aes(width = N), \n",
    "  #               colour = \"green\", \n",
    "  #               alpha = 0.5, \n",
    "  #               curvature = 0.1) +\n",
    "  # geom_node_point(color = \"darkblue\", size = 5, alpha = 0.3) +\n",
    "  geom_node_text(aes(label = name), vjust = 1.8, hjust=-0.1, color = \"black\", check_overlap = TRUE, size = 2) +\n",
    "  theme(legend.position = \"bottom\",\n",
    "        plot.background = element_rect(fill = \"white\", colour = NA),  # ensure plot background is white\n",
    "        panel.background = element_rect(fill = \"white\", colour = NA))\n"
   ]
  },
  {
   "cell_type": "code",
   "execution_count": null,
   "id": "a644e202-9524-4239-ae28-29acb201698a",
   "metadata": {},
   "outputs": [],
   "source": [
    "# Assuming graph_data is already an igraph object\n",
    "# Example: Adding a custom edge attribute for directionality\n",
    "E(graph_data)$type <- ifelse(runif(ecount(graph_data)) > 0.5, \"Type1\", \"Type2\")\n",
    "\n",
    "# Use this 'type' attribute to set different curvatures\n"
   ]
  },
  {
   "cell_type": "code",
   "execution_count": null,
   "id": "77001dd5-97b3-4460-bdc3-5f86d0fcb37e",
   "metadata": {},
   "outputs": [],
   "source": [
    "graph_data"
   ]
  },
  {
   "cell_type": "code",
   "execution_count": null,
   "id": "6d0449b9-f60f-4ae2-8af5-a5a1d87099cb",
   "metadata": {},
   "outputs": [],
   "source": [
    "library(ggraph)\n",
    "library(igraph)\n",
    "\n",
    "# Adjusting the options for better SVG output in Jupyter\n",
    "options(repr.plot.width = 12, repr.plot.height = 5, jupyter.plot_mimetypes = \"image/svg+xml\")\n",
    "\n",
    "# Re-evaluate the use of layout if x and y coordinates should be preserved \n",
    "p1 <- ggraph(graph_data, layout = 'linear') + \n",
    "  geom_edge_arc(aes(width = N),\n",
    "                curvature = ifelse(E(graph_data)$type == \"Type1\", 1.0, -1.0),  # Apply curvature outside of aes()\n",
    "                arrow = arrow(length = unit(3, 'mm'), type = 'closed', ends = 'last',), color = \"red\",  alpha = 0.5) +\n",
    "\n",
    "  geom_edge_arc(aes(width = N),\n",
    "                curvature = ifelse(E(graph_data)$type == \"Type1\", 1.0, -1.0),  # Apply curvature outside of aes()\n",
    "                , color = \"grey\",  alpha = 0.5) +\n",
    "\n",
    "\n",
    "  geom_node_text(aes(label = name), vjust = 0, hjust = 0.1, \n",
    "                 color = \"black\", check_overlap = F, size = 5,  repel = TRUE, force=200) +\n",
    "  geom_node_point(color = \"darkblue\", size = 2, alpha = 0.5) +\n",
    "\n",
    "  theme(legend.position = \"bottom\",\n",
    "        plot.background = element_rect(fill = \"white\", colour = NA),  \n",
    "        panel.background = element_rect(fill = \"white\", colour = NA),\n",
    "  legend.text = element_text(size = 12),  # Increase legend text size\n",
    "        legend.title = element_text(size = 14),  # Increase legend title siz       \n",
    "       ) #+\n",
    "#coord_cartesian(xlim=c(-1.5,1.5), ylim=c(-1.1,1.2))\n",
    "\n"
   ]
  },
  {
   "cell_type": "code",
   "execution_count": null,
   "id": "533deefe-3200-4349-9dcb-45636a0871e2",
   "metadata": {},
   "outputs": [],
   "source": [
    "df3 <- df2 %>%\n",
    "    select(reciever, bins) %>%\n",
    "    distinct()\n",
    "df3"
   ]
  },
  {
   "cell_type": "code",
   "execution_count": null,
   "id": "fa07a109-719d-481d-8adf-3b6cd85b1c7f",
   "metadata": {},
   "outputs": [],
   "source": [
    "# Example dataframe\n",
    "options(repr.plot.width = 8, repr.plot.height = 5, jupyter.plot_mimetypes = \"image/svg+xml\")\n",
    "\n",
    "df3 <- data.frame(\n",
    "  reciever = c(\"Pirellulales\", \"Rhodospirillales\", \"Flavobacteriales\", \n",
    "               \"Cytophagales\", \"Balneolales\", \"Burkholderiales\", \n",
    "               \"Planctomycetales\", \"Rhodobacterales\", \"Xanthomonadales\", \n",
    "               \"Hyphomicrobiales\", \"Maricaulales\"),\n",
    "  bins = c(\"bin.8\", \"bin.18\", \"bin.3\", \"bin.2\", \"bin.15\", \"bin.16\", \n",
    "           \"bin.13\", \"bin.11\", \"bin.14\", \"bin.1,bin.12,bin.5,bin.9\", \"bin.4\")\n",
    ")\n",
    "\n",
    "# Creating a text plot\n",
    "text_plot <- ggplot(df3, aes(x = 1, y = factor(reciever, levels = rev(df3$reciever)), label = paste(reciever, bins, sep = \": \"))) +\n",
    "  geom_text(hjust = 0, size = 3.5) +\n",
    "  theme_void() +\n",
    "  theme(\n",
    "    plot.margin = unit(c(1, 1, 1, 1), \"cm\"),  # Add some padding\n",
    "    panel.background = element_rect(fill = \"white\", colour = NA)  # Ensure white background\n",
    "  ) +\n",
    "  labs(x = NULL, y = NULL)  # Remove any labels\n",
    "text_plot"
   ]
  },
  {
   "cell_type": "code",
   "execution_count": null,
   "id": "fb59cb0c-11bd-413d-b561-6edc4150c965",
   "metadata": {},
   "outputs": [],
   "source": [
    "options(repr.plot.width = 16, repr.plot.height = 8, jupyter.plot_mimetypes = \"image/svg+xml\")\n",
    "\n",
    "library(patchwork)\n",
    "op <- p1|text_plot + plot_layout(widths = c(2, 1))"
   ]
  },
  {
   "cell_type": "code",
   "execution_count": null,
   "id": "c45f1553-fb5b-4ac6-89a7-2f14a758f74d",
   "metadata": {},
   "outputs": [],
   "source": [
    "ggsave(plot = op, filename = snakemake@output$plot, width = 16, height =8)\n",
    "fwrite(df2,file=snakemake@output$csv)"
   ]
  }
 ],
 "metadata": {
  "kernelspec": {
   "display_name": "R",
   "language": "R",
   "name": "ir"
  },
  "language_info": {
   "codemirror_mode": "r",
   "file_extension": ".r",
   "mimetype": "text/x-r-source",
   "name": "R",
   "pygments_lexer": "r",
   "version": "4.3.3"
  }
 },
 "nbformat": 4,
 "nbformat_minor": 5
}
