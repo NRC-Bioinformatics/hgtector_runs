{
 "cells": [
  {
   "cell_type": "code",
   "execution_count": null,
   "id": "baa18d69",
   "metadata": {},
   "outputs": [],
   "source": [
    "library(data.table)\n",
    "library(dplyr)\n",
    "library(taxizedb)\n",
    "library(tidyr)\n",
    "\n"
   ]
  },
  {
   "cell_type": "code",
   "execution_count": null,
   "id": "a57b1edc-8ac3-49b9-b5d4-93dbb12055ec",
   "metadata": {},
   "outputs": [],
   "source": [
    "kdf <- fread(snakemake@input$kaiju,header = F ,sep=\"\\t\", fill = T) %>%\n",
    "    filter(V1==\"C\") %>%\n",
    "    select(contig = V2, taxid = V3)\n",
    "kdf"
   ]
  },
  {
   "cell_type": "code",
   "execution_count": null,
   "id": "5bb2452f-5b00-4385-b5ea-16773ceae1c1",
   "metadata": {},
   "outputs": [],
   "source": [
    "l_df <- fread(snakemake@input$linf) %>%\n",
    "    rowwise() %>%\n",
    "    mutate(contig = strsplit(V1, split = \" \")[[1]][[1]]) %>%\n",
    "    select(contig, length = V2)\n",
    "head(l_df)"
   ]
  },
  {
   "cell_type": "code",
   "execution_count": null,
   "id": "5746b0f3-4aad-494f-aacd-163504bd00ac",
   "metadata": {},
   "outputs": [],
   "source": [
    "library(taxizedb)\n",
    "\n",
    "# Download and set up the local database (e.g., NCBI)\n",
    "# This step downloads the database and sets it up locally, which can take some time initially\n",
    "db <- db_download_ncbi()\n",
    "\n",
    "# Example: Fetch taxonomy information for multiple IDs\n",
    "\n",
    "\n",
    "get_lineages <- function(xx){\n",
    "    standard_ranks <- c(\"kingdom\", \"phylum\", \"class\", \"order\", \"family\", \"genus\", \"species\")\n",
    "    tax_info <- classification(ids, db=\"ncbi\")\n",
    "    # Print the fetched data\n",
    "    #tax_info\n",
    "    tt <- lapply(xx, function(x){\n",
    "        tax_info <- classification(x, db=\"ncbi\")\n",
    "        df <- tax_info[[1]]\n",
    "        if (!length(nrow(df))==0) {\n",
    "            df$query <- x\n",
    "            return(df)\n",
    "        } else {\n",
    "            \n",
    "        return(NA) \n",
    "        }\n",
    "        \n",
    "    })\n",
    "    tt <- tt[!is.na(tt)]\n",
    "    dfo <- bind_rows(tt) %>%\n",
    "        filter(rank %in% standard_ranks) %>%\n",
    "        select(-id) %>%\n",
    "    pivot_wider(names_from = rank, values_from = name)\n",
    "    return(dfo)\n",
    "}\n"
   ]
  },
  {
   "cell_type": "code",
   "execution_count": null,
   "id": "813c3d0f-741e-40a4-843e-2f344dc35fef",
   "metadata": {},
   "outputs": [],
   "source": [
    "ids <- unlist(unique(unlist(kdf$taxid)))\n",
    "txinf <- get_lineages(ids)"
   ]
  },
  {
   "cell_type": "code",
   "execution_count": null,
   "id": "0162aed1-ca5e-46b0-b3f5-60da6fdfe4d5",
   "metadata": {},
   "outputs": [],
   "source": [
    "txinf$query <- as.integer(txinf$query)"
   ]
  },
  {
   "cell_type": "code",
   "execution_count": null,
   "id": "62e4a0dd-239f-4757-9cf9-7ccc4eca69e2",
   "metadata": {},
   "outputs": [],
   "source": [
    "kdf$taxid <- as.integer(kdf$taxid)"
   ]
  },
  {
   "cell_type": "code",
   "execution_count": null,
   "id": "33046ce8-54d7-431b-b495-c8a5b9450480",
   "metadata": {},
   "outputs": [],
   "source": [
    "kdf2 <- kdf %>%\n",
    "    left_join(txinf, by=c(\"taxid\"=\"query\")) %>%\n",
    "    left_join(l_df, by = \"contig\")\n",
    "kdf2\n"
   ]
  },
  {
   "cell_type": "code",
   "execution_count": null,
   "id": "0e8bbdd3-8ffe-48af-9315-b0a0db11e1ed",
   "metadata": {},
   "outputs": [],
   "source": [
    "kdf3 <- kdf2 %>%\n",
    "    rowwise() %>%\n",
    "    mutate(bin = strsplit(contig, split=\"_\")[[1]][[1]]) %>%\n",
    "    filter(!is.na(species)) %>%\n",
    "    group_by(bin,species, taxid) %>%\n",
    "    summarise(N=n()) %>%\n",
    "    arrange(-N) %>%\n",
    "    ungroup() %>%\n",
    "    group_by(bin) %>%\n",
    "    slice_max(order_by = N,with_ties = F, n=1) %>%\n",
    "    ungroup() %>%\n",
    "    left_join(txinf, by=c(\"taxid\"=\"query\")) %>%\n",
    "    rowwise() %>%\n",
    "    mutate(binid = as.integer(strsplit(bin, split=\".\",fixed = T)[[1]][[2]])) %>%\n",
    "    arrange(binid) %>%\n",
    "    select(-species.x) %>%\n",
    "    rename(species = species.y)\n",
    "\n",
    "\n",
    "    \n",
    "fwrite(x = kdf3, file = snakemake@output[[1]])"
   ]
  }
 ],
 "metadata": {
  "kernelspec": {
   "display_name": "R",
   "language": "R",
   "name": "ir"
  },
  "language_info": {
   "codemirror_mode": "r",
   "file_extension": ".r",
   "mimetype": "text/x-r-source",
   "name": "R",
   "pygments_lexer": "r",
   "version": "4.3.3"
  }
 },
 "nbformat": 4,
 "nbformat_minor": 5
}
