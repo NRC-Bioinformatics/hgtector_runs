{
 "cells": [
  {
   "cell_type": "code",
   "execution_count": null,
   "id": "89d94c79",
   "metadata": {},
   "outputs": [],
   "source": [
    "library(data.table)\n",
    "library(dplyr)\n",
    "library(dtplyr)"
   ]
  },
  {
   "cell_type": "code",
   "execution_count": null,
   "id": "c8b2f8f3-e8c9-4fd9-b2a8-0153183f1b00",
   "metadata": {},
   "outputs": [],
   "source": [
    "heads = \"qseqid sseqid pident evalue bitscore qcovhsp staxid\"\n",
    "heads = unlist(strsplit(heads, split = \" \")[[1]])\n",
    "df_nr = fread(input = snakemake@input$vsbalt, header = F, showProgress = T)\n",
    "names(df_nr) <- heads \n",
    "df_nr <- lazy_dt(df_nr)"
   ]
  },
  {
   "cell_type": "code",
   "execution_count": null,
   "id": "78dd16a0-780a-4ecf-ad9e-4003a4382c20",
   "metadata": {},
   "outputs": [],
   "source": [
    "df_nr2 <- df_nr %>%\n",
    "    filter(pident > 30, qcovhsp > 50) %>%\n",
    "    group_by(qseqid) %>%\n",
    "    arrange(-bitscore, .by_group = T) %>%\n",
    "    slice(1) %>%\n",
    "    ungroup() %>%\n",
    "    select(qseqid,sseqid_nr = sseqid, pident_nr = pident,bitscore_nr = bitscore, staxid_nr = staxid, qcovhsp_nr = qcovhsp) #%>%\n",
    "    #as.data.table()"
   ]
  },
  {
   "cell_type": "code",
   "execution_count": null,
   "id": "0d534daf-9a3e-4c59-8318-07f52ee3fe48",
   "metadata": {},
   "outputs": [],
   "source": [
    "heads = \"qseqid sseqid pident evalue bitscore qcovhsp\"\n",
    "heads = unlist(strsplit(heads, split = \" \")[[1]])\n",
    "df_bins = fread(input = snakemake@input$vsself, col.names = heads, showProgress = T)\n"
   ]
  },
  {
   "cell_type": "code",
   "execution_count": null,
   "id": "f6cf94cb-341b-4c9d-aebf-dc39c6bba350",
   "metadata": {},
   "outputs": [],
   "source": [
    "df_bins2 <- df_bins %>%\n",
    "    rowwise() %>%\n",
    "    mutate(\n",
    "        qbin = strsplit(qseqid, split = \"_\")[[1]][[1]],\n",
    "        sbin = strsplit(sseqid, split = \"_\")[[1]][[1]]\n",
    "    ) %>%\n",
    "    filter(qbin != sbin, pident > 50, qcovhsp > 50)\n",
    "    \n",
    "df_bins2 <- lazy_dt(df_bins2)\n",
    "df_bins2 <- df_bins2 %>%\n",
    "    left_join(df_nr2, by = \"qseqid\") %>%\n",
    "    #filter(is.na(sseqid_nr)) %>%\n",
    "    group_by(qseqid) %>%\n",
    "    arrange(-bitscore, .by_group = T) %>%\n",
    "    slice(1) %>%\n",
    "    ungroup() %>%\n",
    "    mutate(bitscore_nr = if_else(is.na(bitscore_nr),0,bitscore_nr)) %>%\n",
    "    filter(bitscore >= bitscore_nr) %>%\n",
    "    filter(!is.na(qseqid)) %>%\n",
    "    collect()\n",
    "\n",
    "fwrite(df_bins2,file = snakemake@output[[1]])"
   ]
  }
 ],
 "metadata": {
  "kernelspec": {
   "display_name": "R",
   "language": "R",
   "name": "ir"
  },
  "language_info": {
   "codemirror_mode": "r",
   "file_extension": ".r",
   "mimetype": "text/x-r-source",
   "name": "R",
   "pygments_lexer": "r",
   "version": "4.3.3"
  }
 },
 "nbformat": 4,
 "nbformat_minor": 5
}
