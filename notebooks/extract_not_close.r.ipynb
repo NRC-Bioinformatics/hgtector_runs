{
 "cells": [
  {
   "cell_type": "code",
   "execution_count": null,
   "id": "51260d25",
   "metadata": {},
   "outputs": [],
   "source": [
    "library(data.table)\n",
    "library(dplyr)\n",
    "library(tidyr)"
   ]
  },
  {
   "cell_type": "code",
   "execution_count": null,
   "id": "3a6995b0-c819-46e8-ab96-731f6f569632",
   "metadata": {},
   "outputs": [],
   "source": [
    "hgdf_file = paste(snakemake@input[[1]],\"hgts\",paste(snakemake@wildcards$stem,\".txt\",sep = \"\"),sep = \"/\")\n",
    "str4s = strsplit(snakemake@wildcards$stem, split = \"_\", fixed = T)[[1]][[2]]\n",
    "if (file.exists(hgdf_file)) {\n",
    "hgdf = fread(hgdf_file) %>%\n",
    "    rowwise() %>%\n",
    "    mutate(MATCH = grepl(pattern = str4s, x = V1, fixed = T)) %>%\n",
    "    filter(!MATCH)\n",
    "} else {hgdf=data.frame(MATCH=c(NA))}\n",
    "fwrite(x = hgdf,file = snakemake@output[[1]])"
   ]
  }
 ],
 "metadata": {
  "kernelspec": {
   "display_name": "R",
   "language": "R",
   "name": "ir"
  },
  "language_info": {
   "codemirror_mode": "r",
   "file_extension": ".r",
   "mimetype": "text/x-r-source",
   "name": "R",
   "pygments_lexer": "r",
   "version": "4.3.3"
  }
 },
 "nbformat": 4,
 "nbformat_minor": 5
}
