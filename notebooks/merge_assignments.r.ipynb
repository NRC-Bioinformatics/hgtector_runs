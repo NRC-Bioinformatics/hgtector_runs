{
 "cells": [
  {
   "cell_type": "code",
   "execution_count": null,
   "id": "35b96564",
   "metadata": {},
   "outputs": [],
   "source": [
    "library(dplyr)\n",
    "library(data.table)"
   ]
  },
  {
   "cell_type": "code",
   "execution_count": null,
   "id": "54a1ce3c-54bf-4dc7-a28e-76e6855fc5a7",
   "metadata": {},
   "outputs": [],
   "source": [
    "dfs <- lapply(\n",
    "    snakemake@input,\n",
    "    function(x){\n",
    "        return(fread(x))\n",
    "    }\n",
    ")"
   ]
  },
  {
   "cell_type": "code",
   "execution_count": null,
   "id": "bb16e0d1-c951-4d9b-bf2d-72ecb4ad2ab8",
   "metadata": {},
   "outputs": [],
   "source": [
    "dfs <- bind_rows(dfs)\n",
    "fwrite(x = dfs, file = snakemake@output[[1]])"
   ]
  }
 ],
 "metadata": {
  "kernelspec": {
   "display_name": "R",
   "language": "R",
   "name": "ir"
  },
  "language_info": {
   "codemirror_mode": "r",
   "file_extension": ".r",
   "mimetype": "text/x-r-source",
   "name": "R",
   "pygments_lexer": "r",
   "version": "4.3.3"
  }
 },
 "nbformat": 4,
 "nbformat_minor": 5
}
