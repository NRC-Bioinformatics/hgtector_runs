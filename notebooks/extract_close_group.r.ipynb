{
 "cells": [
  {
   "cell_type": "code",
   "execution_count": null,
   "id": "aca6db16",
   "metadata": {},
   "outputs": [],
   "source": [
    "library(dplyr)\n",
    "library(data.table)\n",
    "library(tidyr)\n",
    "library(taxizedb)\n",
    "library(ggplot2)"
   ]
  },
  {
   "cell_type": "code",
   "execution_count": null,
   "id": "aa2fce09-3df6-4dce-8bad-1515d6ea81c4",
   "metadata": {},
   "outputs": [],
   "source": [
    "get_lineages <- function(x){\n",
    "    # Print the fetched data\n",
    "    #tax_info\n",
    "    tt <- lapply(x, function(x){\n",
    "        tax_info <- classification(x, db=\"ncbi\")  \n",
    "        df <- tax_info[[1]]\n",
    "        if (is.data.frame(df)) {\n",
    "                df$query <- x\n",
    "                return(df)\n",
    "            } else {\n",
    "                return(NA)\n",
    "            }\n",
    "\n",
    "    })\n",
    "    tt <- tt[!is.na(tt)]\n",
    "    standard_ranks <- c(\"kingdom\", \"phylum\", \"class\", \"order\", \"family\", \"genus\", \"species\")\n",
    "    dfo <- bind_rows(tt) %>%\n",
    "        filter(rank %in% standard_ranks)\n",
    "    #     select(-id) %>%\n",
    "    #     pivot_wider(names_from = rank, values_from = name)\n",
    "    return(dfo)\n",
    "}\n"
   ]
  },
  {
   "cell_type": "code",
   "execution_count": null,
   "id": "c3e85df8-611a-46de-a000-8722f9b9a134",
   "metadata": {},
   "outputs": [],
   "source": [
    "fin = paste(snakemake@input$search,paste(snakemake@wildcards$stem,\".tsv\",sep=\"\"),sep=\"/\")\n",
    "df_match = fread(cmd = paste(\"grep -v '#' \",fin)) %>%\n",
    "    select(taxid=V6) %>%\n",
    "    group_by(taxid) %>%\n",
    "    summarise(N=n()) %>%\n",
    "    ungroup() %>%\n",
    "    arrange(-N)\n",
    "\n",
    "limit = df_match$N\n",
    "#ggplot(df_match) + geom_histogram(aes(x=N))\n",
    "l = quantile(x = limit,probs = 0.95)[[1]]\n",
    "df_match <- df_match %>%\n",
    "    filter(N > l)\n",
    "lngs <- get_lineages(df_match$taxid)\n",
    "lngs"
   ]
  },
  {
   "cell_type": "code",
   "execution_count": null,
   "id": "687925e5-75e9-4535-8310-9e453c30774f",
   "metadata": {},
   "outputs": [],
   "source": [
    "lngs2 <- lngs %>%\n",
    "    mutate(name2 = paste(paste(name,id),sep=\"_\")) %>%\n",
    "    select(-name, -id) %>%\n",
    "    pivot_wider(names_from = rank, values_from = name2) %>%\n",
    "    select(-species, -query) %>%\n",
    "    group_by(phylum,class, order, family, genus) %>%\n",
    "    summarise(N=n()) %>%\n",
    "    arrange(-N) %>%\n",
    "    filter(N > 1)"
   ]
  },
  {
   "cell_type": "code",
   "execution_count": null,
   "id": "e21cca77-b75f-48b1-add8-e35e16b75b36",
   "metadata": {},
   "outputs": [],
   "source": [
    "lngs2$bin <- sub(pattern = \"nod_\", replacement = \"\", x =  snakemake@wildcards$stem ) \n",
    "#df <- fread(file = snakemake@output$ass)\n",
    "lngs2 <- lngs2 %>%\n",
    "    arrange(-N)\n",
    "fwrite(file = snakemake@output[[1]], x = lngs2)"
   ]
  },
  {
   "cell_type": "code",
   "execution_count": null,
   "id": "151d2a0d-d262-41d4-b39c-3a576ea55d33",
   "metadata": {},
   "outputs": [],
   "source": [
    "# lns = readLines(snakemake@input[[1]])\n",
    "# ids = grepl(pattern = \"Auto-inferred\", x = lns, fixed = T)\n",
    "# # Find indices where ids is TRUE\n",
    "# true_indices <- which(ids)\n",
    "\n",
    "# # Increment indices to get the next entries\n",
    "# next_indices <- true_indices + 1\n",
    "\n",
    "# # Ensure the indices do not exceed the number of rows in df\n",
    "# next_indices <- next_indices[next_indices <= length(lns)]\n",
    "\n",
    "# # Get the corresponding lines using the next indices\n",
    "# df <- data.frame(matches = lns[next_indices]) %>%\n",
    "#     separate(col = matches,sep = \" \\\\(\", into = c(\"A\",\"B\")) %>%\n",
    "#     mutate(B = sub(pattern = \")\", x = B, replacement=\"\")) %>%\n",
    "#     rename(taxid=A, name = B) %>%\n",
    "#     mutate(type=c(\"self\",\"close\"))\n",
    "# df"
   ]
  }
 ],
 "metadata": {
  "kernelspec": {
   "display_name": "R",
   "language": "R",
   "name": "ir"
  },
  "language_info": {
   "codemirror_mode": "r",
   "file_extension": ".r",
   "mimetype": "text/x-r-source",
   "name": "R",
   "pygments_lexer": "r",
   "version": "4.3.3"
  }
 },
 "nbformat": 4,
 "nbformat_minor": 5
}
