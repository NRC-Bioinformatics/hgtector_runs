{
 "cells": [
  {
   "cell_type": "code",
   "execution_count": null,
   "id": "8b4d8dc3",
   "metadata": {},
   "outputs": [],
   "source": [
    "library(dplyr)\n",
    "library(data.table)\n",
    "library(tidyr)\n",
    "library(taxizedb)\n",
    "library(ggplot2)"
   ]
  },
  {
   "cell_type": "code",
   "execution_count": null,
   "id": "022892ed-850f-40c5-8ea6-0eac287a3732",
   "metadata": {},
   "outputs": [],
   "source": [
    "hggns = paste(snakemake@input$od, \"hgts\",paste(snakemake@wildcards$stem,\".txt\",sep=\"\"),sep = \"/\")\n",
    "hggns_df = fread(hggns) %>%\n",
    "    select(protein=V1, score=V2,taxid = V3)"
   ]
  },
  {
   "cell_type": "code",
   "execution_count": null,
   "id": "36b08191-27c7-40ef-886e-a8504360ef68",
   "metadata": {},
   "outputs": [],
   "source": [
    "get_lineages <- function(x){\n",
    "    # Print the fetched data\n",
    "    #tax_info\n",
    "    tt <- lapply(x, function(x){\n",
    "        tax_info <- classification(x, db=\"ncbi\")  \n",
    "        df <- tax_info[[1]]\n",
    "        if (is.data.frame(df)) {\n",
    "                df$query <- x\n",
    "                return(df)\n",
    "            } else {\n",
    "                return(NA)\n",
    "            }\n",
    "\n",
    "    })\n",
    "    tt <- tt[!is.na(tt)]\n",
    "    standard_ranks <- c(\"kingdom\", \"phylum\", \"class\", \"order\", \"family\", \"genus\", \"species\")\n",
    "    dfo <- bind_rows(tt) %>%\n",
    "        filter(rank %in% standard_ranks)\n",
    "    #     select(-id) %>%\n",
    "    #     pivot_wider(names_from = rank, values_from = name)\n",
    "    return(dfo)\n",
    "}\n"
   ]
  },
  {
   "cell_type": "code",
   "execution_count": null,
   "id": "9faf13ce-ce0c-45d6-a9e0-ddf8d933d43d",
   "metadata": {},
   "outputs": [],
   "source": [
    "lgs <- get_lineages(hggns_df$taxid) %>%\n",
    "    filter(rank == \"order\")"
   ]
  },
  {
   "cell_type": "code",
   "execution_count": null,
   "id": "a9cc35bc-2253-4556-8a3b-5557a4a3dfbb",
   "metadata": {},
   "outputs": [],
   "source": [
    "lgs <- lgs %>%\n",
    "    select(-rank, -id) %>%\n",
    "    distinct()\n",
    "lgs"
   ]
  },
  {
   "cell_type": "code",
   "execution_count": null,
   "id": "852571a7-3ede-434e-b14c-c2b029ce2cd5",
   "metadata": {},
   "outputs": [],
   "source": [
    "hggns_df2 <- hggns_df %>%\n",
    "    left_join(lgs, by = c(\"taxid\"=\"query\")) %>%\n",
    "    filter(!is.na(name))\n",
    "hggns_df2"
   ]
  },
  {
   "cell_type": "code",
   "execution_count": null,
   "id": "5606debf-ba83-42b5-a63f-20bd5db87006",
   "metadata": {},
   "outputs": [],
   "source": [
    "inf <- fread(snakemake@input$close) %>%\n",
    "    select(order,bin) %>%\n",
    "    rowwise() %>%\n",
    "    mutate(order = strsplit(split=\" \",x = order)[[1]][[1]])\n",
    "\n",
    "\n",
    "reciever_bin = sub(pattern = \"nod_\", replacement = \"\", x = snakemake@wildcards$stem)\n",
    "reciever_order = filter(inf, bin==reciever_bin)$order\n",
    "hggns_df3 <- hggns_df2 %>%\n",
    "    left_join(inf, by = c(\"name\"=\"order\")) %>%\n",
    "    filter(!is.na(bin)) %>%\n",
    "    select(-bin) %>%\n",
    "    distinct() %>%\n",
    "    rename(donor = name) %>%\n",
    "    mutate(\n",
    "        reciever=reciever_order,\n",
    "        bin = reciever_bin)\n",
    "fwrite(hggns_df3, file = snakemake@output[[1]])\n",
    "\n",
    "\n"
   ]
  }
 ],
 "metadata": {
  "kernelspec": {
   "display_name": "R",
   "language": "R",
   "name": "ir"
  },
  "language_info": {
   "codemirror_mode": "r",
   "file_extension": ".r",
   "mimetype": "text/x-r-source",
   "name": "R",
   "pygments_lexer": "r",
   "version": "4.3.3"
  }
 },
 "nbformat": 4,
 "nbformat_minor": 5
}
